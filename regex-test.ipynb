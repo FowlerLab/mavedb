{
 "cells": [
  {
   "cell_type": "code",
   "execution_count": 1,
   "metadata": {},
   "outputs": [],
   "source": [
    "import re\n",
    "\n",
    "from django.core.exceptions import ValidationError"
   ]
  },
  {
   "cell_type": "code",
   "execution_count": 2,
   "metadata": {},
   "outputs": [],
   "source": [
    "prefix = \"[gm]|[cn]\"\n",
    "nucleotides = \"ATCGX\""
   ]
  },
  {
   "cell_type": "markdown",
   "metadata": {},
   "source": [
    "# Substitutions\n",
    "See [here](http://varnomen.hgvs.org/recommendations/DNA/variant/substitution/) for HGVS substitution event nomenclature."
   ]
  },
  {
   "cell_type": "code",
   "execution_count": 63,
   "metadata": {},
   "outputs": [],
   "source": [
    "# “prefix”“position_substituted”“reference_nucleotide””>”new_nucleotide”\n",
    "subsitution_grouped = (\n",
    "    r\"(?P<pos_sub>\\d+)\"\n",
    "    r\"(?P<ref_nt>[{ref_nt}]{{1}})\"\n",
    "    r\"(?:>|=|=/|=//)\"\n",
    "    r\"(?P<new_nt>[{new_nt}]{{1}})\"\n",
    ").format(prefix=prefix, ref_nt=nucleotides, new_nt=nucleotides)"
   ]
  },
  {
   "cell_type": "code",
   "execution_count": 52,
   "metadata": {},
   "outputs": [],
   "source": [
    "subsitution_nongrouped = (\n",
    "    r\"(\\d+)\"\n",
    "    r\"(?:[{ref_nt}]{{1}})\"\n",
    "    r\"(?:>|=|=/|=//)\"\n",
    "    r\"(?:[{new_nt}]{{1}})\"\n",
    ").format(prefix=prefix, ref_nt=nucleotides, new_nt=nucleotides)"
   ]
  },
  {
   "cell_type": "code",
   "execution_count": 53,
   "metadata": {},
   "outputs": [],
   "source": [
    "multi_substitutions = r\"({first_group})(;{groups}){{1,}}(?!;)\".format(\n",
    "    prefix=prefix,\n",
    "    first_group=subsitution_nongrouped,\n",
    "    groups=subsitution_nongrouped\n",
    ")\n",
    "multi_variant = r\"[{prefix}]{{1}}\\.\\[{multi}\\]\".format(prefix=prefix, multi=multi_substitutions)"
   ]
  },
  {
   "cell_type": "code",
   "execution_count": 64,
   "metadata": {},
   "outputs": [],
   "source": [
    "subsitution_grouped_re = re.compile(subsitution_grouped)\n",
    "subsitution_nongrouped_re = re.compile(subsitution_nongrouped)\n",
    "multi_substitutions_re = re.compile(multi_substitutions)\n",
    "multi_variant_re = re.compile(multi_variant)"
   ]
  },
  {
   "cell_type": "code",
   "execution_count": 55,
   "metadata": {},
   "outputs": [],
   "source": [
    "def is_multi(hgvs):\n",
    "    return bool(multi_variant_re.match(hgvs)) | bool(multi_substitutions_re.match(hgvs))\n",
    "\n",
    "def validate_multi_variant(hgvs):\n",
    "    match = multi_variant_re.match(hgvs)\n",
    "    if match:\n",
    "        validate_multi_substitutions(hgvs)  \n",
    "    else:\n",
    "        raise ValidationError(\"Invalid HGVS string '{}'.\".format(hgvs))\n",
    "        \n",
    "def validate_multi_substitutions(hgvs):\n",
    "    inner = hgvs[3:-1] # removes prefix and square brackets\n",
    "    match = multi_substitutions_re.match(inner)\n",
    "    if match:\n",
    "        subs = match.string.split(';')\n",
    "        if not subs:\n",
    "            raise ValidationError(\n",
    "                \"Variant '{}' has an invalid \"\n",
    "                \"multi-substitution format. \"\n",
    "                \"Check that substitution events are \"\n",
    "                \"semi-colon delimited.\".format(hgvs)\n",
    "            )\n",
    "        if len(subs) != len(set(subs)):\n",
    "            raise ValidationError(\n",
    "                \"Variant '{}' has defined the same substution \" \n",
    "                \"event more than once.\".format(hgvs)\n",
    "            )\n",
    "        for sub in subs:\n",
    "            sub_match = subsitution_grouped_re.match(sub)\n",
    "            if not sub_match:\n",
    "                raise ValidationError(\"\")\n",
    "            position = sub_match.groupdict().get('pos_sub', None)\n",
    "            ref_nt = sub_match.groupdict().get('ref_nt', None)\n",
    "            new_nt = sub_match.groupdict().get('new_nt', None)\n",
    "            if not ref_nt or not new_nt:\n",
    "                raise ValidationError(\n",
    "                    \"Invalid nucleotides for \"\n",
    "                    \"variant '{}' in '{}'.\".format(sub, hgvs)\n",
    "                )\n",
    "            if ref_nt == new_nt:\n",
    "                raise ValidationError(\n",
    "                    \"Reference nucleotide cannot be the same as the \"\n",
    "                    \"new nucleotide for variant '{}' in '{}'.\".format(sub, hgvs)\n",
    "                ) \n",
    "            if int(position) < 1:\n",
    "                raise ValidationError(\n",
    "                    \"The substitution position for variant '{}' in '{}' \"\n",
    "                    \"must be 1 or greater.\".format(sub, hgvs)\n",
    "                )\n",
    "    else:\n",
    "        raise ValidationError(\"Invalid HGVS string '{}'.\".format(hgvs))"
   ]
  },
  {
   "cell_type": "markdown",
   "metadata": {
    "collapsed": true
   },
   "source": [
    "# Deletions\n",
    "See [here](http://varnomen.hgvs.org/recommendations/DNA/variant/deletion/) for HGVS deletion event nomenclature."
   ]
  },
  {
   "cell_type": "code",
   "execution_count": 74,
   "metadata": {},
   "outputs": [
    {
     "data": {
      "text/plain": [
       "<_sre.SRE_Match object; span=(0, 7), match='93+1G>T'>"
      ]
     },
     "execution_count": 74,
     "metadata": {},
     "output_type": "execute_result"
    }
   ],
   "source": [
    "subsitution_grouped_re.match('93+1G>T')"
   ]
  },
  {
   "cell_type": "code",
   "execution_count": 75,
   "metadata": {},
   "outputs": [
    {
     "ename": "ImportError",
     "evalue": "No module named 'hgvs'",
     "output_type": "error",
     "traceback": [
      "\u001b[1;31m---------------------------------------------------------------------------\u001b[0m",
      "\u001b[1;31mImportError\u001b[0m                               Traceback (most recent call last)",
      "\u001b[1;32m<ipython-input-75-5c69cb92b607>\u001b[0m in \u001b[0;36m<module>\u001b[1;34m()\u001b[0m\n\u001b[1;32m----> 1\u001b[1;33m \u001b[1;32mimport\u001b[0m \u001b[0mhgvs\u001b[0m\u001b[1;33m\u001b[0m\u001b[0m\n\u001b[0m",
      "\u001b[1;31mImportError\u001b[0m: No module named 'hgvs'"
     ]
    }
   ],
   "source": [
    "import hgvs"
   ]
  },
  {
   "cell_type": "code",
   "execution_count": null,
   "metadata": {},
   "outputs": [],
   "source": []
  }
 ],
 "metadata": {
  "kernelspec": {
   "display_name": "Python 3",
   "language": "python",
   "name": "python3"
  },
  "language_info": {
   "codemirror_mode": {
    "name": "ipython",
    "version": 3
   },
   "file_extension": ".py",
   "mimetype": "text/x-python",
   "name": "python",
   "nbconvert_exporter": "python",
   "pygments_lexer": "ipython3",
   "version": "3.4.5"
  }
 },
 "nbformat": 4,
 "nbformat_minor": 2
}
